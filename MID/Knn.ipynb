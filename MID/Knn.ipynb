{
  "nbformat": 4,
  "nbformat_minor": 0,
  "metadata": {
    "colab": {
      "provenance": []
    },
    "kernelspec": {
      "name": "python3",
      "display_name": "Python 3"
    },
    "language_info": {
      "name": "python"
    }
  },
  "cells": [
    {
      "cell_type": "code",
      "execution_count": 2,
      "metadata": {
        "id": "dPRPSRKYyNUK"
      },
      "outputs": [],
      "source": [
        "import os\n",
        "import cv2\n",
        "import numpy as np\n",
        "import matplotlib.pyplot as plt"
      ]
    },
    {
      "cell_type": "code",
      "source": [
        "from google.colab import drive\n",
        "drive.mount('/content/drive')"
      ],
      "metadata": {
        "colab": {
          "base_uri": "https://localhost:8080/"
        },
        "id": "uAI_W4rlzujt",
        "outputId": "fac6ac45-48b0-4389-bc12-2d2cef8983da"
      },
      "execution_count": 3,
      "outputs": [
        {
          "output_type": "stream",
          "name": "stdout",
          "text": [
            "Mounted at /content/drive\n"
          ]
        }
      ]
    },
    {
      "cell_type": "markdown",
      "source": [
        "**Main path configuration**"
      ],
      "metadata": {
        "id": "JJbnukJYz06i"
      }
    },
    {
      "cell_type": "code",
      "source": [
        "main_path ='/content/drive/MyDrive/Animals'\n",
        "foldernames = os.listdir(main_path)"
      ],
      "metadata": {
        "id": "-WZ7tebMz6bQ"
      },
      "execution_count": 4,
      "outputs": []
    },
    {
      "cell_type": "markdown",
      "source": [
        "**Accesing each folder and print it**"
      ],
      "metadata": {
        "id": "7uwP5c2Mz_Ql"
      }
    },
    {
      "cell_type": "code",
      "source": [
        "foldernames = os.listdir(main_path)\n",
        "print(foldernames)\n",
        ""
      ],
      "metadata": {
        "colab": {
          "base_uri": "https://localhost:8080/"
        },
        "id": "lOxd5VAg0DRI",
        "outputId": "5528c941-ee62-4a4a-c197-0d0db02f8100"
      },
      "execution_count": 5,
      "outputs": [
        {
          "output_type": "stream",
          "name": "stdout",
          "text": [
            "['Jaguar', 'Leopard', 'Cheetah', 'Tiger', 'Lion']\n"
          ]
        }
      ]
    },
    {
      "cell_type": "markdown",
      "source": [
        "**Data preprocessing**"
      ],
      "metadata": {
        "id": "wJzswO6H0LF5"
      }
    },
    {
      "cell_type": "code",
      "source": [
        "for folder in foldernames:\n",
        "    individualpath = os.path.join(main_path, folder)\n",
        "    imgnames = os.listdir(individualpath)\n",
        "\n",
        "    for img in imgnames:\n",
        "        each_img_path = os.path.join(individualpath, img)\n",
        "        read_img = cv2.imread(each_img_path)\n",
        "\n",
        "        if read_img is not None:\n",
        "            rgb_img = cv2.cvtColor(read_img, cv2.COLOR_BGR2RGB)\n",
        "            resize_img = cv2.resize(rgb_img, (300, 300))\n",
        "            plt.imshow(resize_img)\n",
        "            plt.show()"
      ],
      "metadata": {
        "id": "857ErX177fqR"
      },
      "execution_count": null,
      "outputs": []
    },
    {
      "cell_type": "code",
      "source": [
        "for folder in foldernames:\n",
        "    individualpath = os.path.join(main_path, folder)\n",
        "    imgnames = os.listdir(individualpath)\n",
        "    label=foldernames.index(folder)\n",
        "    print(folder,label)\n",
        ""
      ],
      "metadata": {
        "colab": {
          "base_uri": "https://localhost:8080/"
        },
        "id": "cdOsJpwK1CZ8",
        "outputId": "92c75358-84f0-4f13-fff8-8cb563eb91f6"
      },
      "execution_count": 7,
      "outputs": [
        {
          "output_type": "stream",
          "name": "stdout",
          "text": [
            "Jaguar 0\n",
            "Leopard 1\n",
            "Cheetah 2\n",
            "Tiger 3\n",
            "Lion 4\n"
          ]
        }
      ]
    },
    {
      "cell_type": "markdown",
      "source": [
        "**Convert RGB images into Gray images and store it as a training dataset**"
      ],
      "metadata": {
        "id": "LlzUvxcP1FG6"
      }
    },
    {
      "cell_type": "code",
      "source": [
        "X_train=[]\n",
        "for folder in foldernames:\n",
        "    individualpath = os.path.join(main_path, folder)\n",
        "    imgnames = os.listdir(individualpath)\n",
        "    label=foldernames.index(folder)\n",
        "    for img in imgnames:\n",
        "        each_img_path = os.path.join(individualpath, img)\n",
        "        read_img = cv2.imread(each_img_path)\n",
        "        if read_img is not None:\n",
        "            rgb_img = cv2.cvtColor(read_img, cv2.COLOR_BGR2RGB)\n",
        "            resize_img = cv2.resize(rgb_img, (300, 300))\n",
        "            gray_img=cv2.cvtColor(resize_img,cv2.COLOR_RGB2GRAY)\n",
        "            X_train.append([gray_img,label])\n",
        "            plt.imshow(gray_img,cmap='gray')\n",
        "            plt.xlabel(folder)\n",
        "            plt.show()"
      ],
      "metadata": {
        "id": "6IkTnKBN7ng2"
      },
      "execution_count": null,
      "outputs": []
    },
    {
      "cell_type": "markdown",
      "source": [
        "**Shuffle the dataset**"
      ],
      "metadata": {
        "id": "O6aPVMuK1VSW"
      }
    },
    {
      "cell_type": "code",
      "source": [
        "import random\n",
        "random.shuffle(X_train)\n",
        "plt.figure(figsize=(20,30))\n",
        "for i in range(48):\n",
        "  plt.subplot(8,6,i+1)\n",
        "  plt.imshow(X_train[i][0],cmap='gray')\n",
        "  plt.xlabel(foldernames[X_train[i][1]])\n",
        "plt.show()\n",
        ""
      ],
      "metadata": {
        "id": "rqVx1Llm7r0R"
      },
      "execution_count": null,
      "outputs": []
    },
    {
      "cell_type": "code",
      "source": [
        "print(len(X_train))"
      ],
      "metadata": {
        "colab": {
          "base_uri": "https://localhost:8080/"
        },
        "id": "U8DBPIeO1j44",
        "outputId": "7fbbc5a5-7aac-48c3-8ca7-c3351b9ffead"
      },
      "execution_count": 10,
      "outputs": [
        {
          "output_type": "stream",
          "name": "stdout",
          "text": [
            "170\n"
          ]
        }
      ]
    },
    {
      "cell_type": "markdown",
      "source": [
        "**For KNN,use L2 distance and 5 fold cross validation.Divide the dataset into 5 fold where four fold will use as training dataset and one fold as the validation set**"
      ],
      "metadata": {
        "id": "ujzdN4M61vGj"
      }
    },
    {
      "cell_type": "code",
      "source": [
        "def comparator(dis):\n",
        "  return dis[2]\n",
        "\n",
        "\n"
      ],
      "metadata": {
        "id": "akSpvSqS2ILv"
      },
      "execution_count": 27,
      "outputs": []
    },
    {
      "cell_type": "code",
      "source": [
        "def euclidian_distance(training_img,validate_img):\n",
        "  return np.sqrt(np.sum((training_img-validate_img)**2))"
      ],
      "metadata": {
        "id": "Qw-uBctk2Ncb"
      },
      "execution_count": 28,
      "outputs": []
    },
    {
      "cell_type": "markdown",
      "source": [
        "**This will help to find out the distance between validation image with other training image for each fold**"
      ],
      "metadata": {
        "id": "dz1eBv_d2dyO"
      }
    },
    {
      "cell_type": "code",
      "source": [
        "def distance(training_data,validate_data):\n",
        "  list_dis=[]\n",
        "  for validate_img in validate_data:\n",
        "    val_label_train_label_distance=[]\n",
        "    for training_img in training_data:\n",
        "      l2_distance=euclidian_distance(training_img[0],validate_img[0])\n",
        "      val_label_train_label_distance.append([training_img[1],validate_img[1],l2_distance])\n",
        "\n",
        "    val_label_train_label_distance.sort(key=comparator)\n",
        "    first_thirty_data=val_label_train_label_distance[:]\n",
        "    list_dis.append(val_label_train_label_distance)\n",
        "  return list_dis\n",
        "\n",
        ""
      ],
      "metadata": {
        "id": "ydN1PYNG2gkp"
      },
      "execution_count": 29,
      "outputs": []
    },
    {
      "cell_type": "markdown",
      "source": [
        "**Split the dataset into five fold**"
      ],
      "metadata": {
        "id": "9EopCkMz2wIl"
      }
    },
    {
      "cell_type": "code",
      "source": [
        "fold1 = X_train[:34]\n",
        "fold2 = X_train[34:68]\n",
        "fold3 = X_train[68:102]\n",
        "fold4 = X_train[102:136]\n",
        "fold5 = X_train[136:]"
      ],
      "metadata": {
        "id": "UgcGhOvp2t7O"
      },
      "execution_count": 30,
      "outputs": []
    },
    {
      "cell_type": "markdown",
      "source": [
        "**Use five fold cross validation**"
      ],
      "metadata": {
        "id": "WTsOJbm12_qc"
      }
    },
    {
      "cell_type": "code",
      "source": [
        "first_train = fold1 + fold2 + fold3 + fold4\n",
        "first_validate=fold5\n",
        "second_train=fold1+fold2+fold3+fold5\n",
        "second_validate=fold4\n",
        "third_train=fold1+fold2+fold4+fold5\n",
        "third_validate=fold3\n",
        "fourth_train=fold1+fold3+fold4+fold5\n",
        "fourth_validate=fold2\n",
        "fifth_train=fold2+fold3+fold4+fold5\n",
        "fifth_validate=fold1"
      ],
      "metadata": {
        "id": "NdRHpXnz22ge"
      },
      "execution_count": 31,
      "outputs": []
    },
    {
      "cell_type": "markdown",
      "source": [
        "**Find the distance for each fold**"
      ],
      "metadata": {
        "id": "_Pha58ya3W0S"
      }
    },
    {
      "cell_type": "code",
      "source": [
        "list_dis_one=distance(first_train,first_validate)\n",
        "print(type(list_dis_one))\n",
        ""
      ],
      "metadata": {
        "colab": {
          "base_uri": "https://localhost:8080/"
        },
        "id": "WH5EzXlL3Gj9",
        "outputId": "9844637b-4b53-476b-ebe5-436493d20ac5"
      },
      "execution_count": 32,
      "outputs": [
        {
          "output_type": "stream",
          "name": "stdout",
          "text": [
            "<class 'list'>\n"
          ]
        }
      ]
    },
    {
      "cell_type": "code",
      "source": [
        "\n",
        "print(len(list_dis_one))"
      ],
      "metadata": {
        "colab": {
          "base_uri": "https://localhost:8080/"
        },
        "id": "8yqe1_M23Lua",
        "outputId": "b074ff44-897b-43f5-f4ba-83463b5037eb"
      },
      "execution_count": 33,
      "outputs": [
        {
          "output_type": "stream",
          "name": "stdout",
          "text": [
            "34\n"
          ]
        }
      ]
    },
    {
      "cell_type": "code",
      "source": [
        "print(len(list_dis_one[0]))\n",
        ""
      ],
      "metadata": {
        "colab": {
          "base_uri": "https://localhost:8080/"
        },
        "id": "T_-r-MnU3fFV",
        "outputId": "6612b490-b747-4bb8-bf1e-86a4b36e0358"
      },
      "execution_count": 34,
      "outputs": [
        {
          "output_type": "stream",
          "name": "stdout",
          "text": [
            "136\n"
          ]
        }
      ]
    },
    {
      "cell_type": "code",
      "source": [
        "all_dis=[]\n"
      ],
      "metadata": {
        "id": "vimWoq7q3mCK"
      },
      "execution_count": 35,
      "outputs": []
    },
    {
      "cell_type": "markdown",
      "source": [
        "**For each fold, find the euclidian distance**"
      ],
      "metadata": {
        "id": "5Xg9Zqwo4PwB"
      }
    },
    {
      "cell_type": "code",
      "source": [
        "list_dis_two=distance(second_train,second_validate)\n",
        "list_dis_three=distance(third_train,third_validate)\n",
        "list_dis_four=distance(fourth_train,fourth_validate)\n",
        "list_dis_five=distance(fifth_train,fifth_validate)\n",
        "all_dis.append(list_dis_one)\n",
        "all_dis.append(list_dis_two)\n",
        "all_dis.append(list_dis_three)\n",
        "all_dis.append(list_dis_four)\n",
        "all_dis.append(list_dis_five)\n",
        ""
      ],
      "metadata": {
        "id": "o5Uz9XdR3rzX"
      },
      "execution_count": 36,
      "outputs": []
    },
    {
      "cell_type": "code",
      "source": [
        "\n",
        "print(len(all_dis))"
      ],
      "metadata": {
        "colab": {
          "base_uri": "https://localhost:8080/"
        },
        "id": "fi8FeKps3vvW",
        "outputId": "086e4333-c54a-432a-f273-79eefaffc1ed"
      },
      "execution_count": 37,
      "outputs": [
        {
          "output_type": "stream",
          "name": "stdout",
          "text": [
            "5\n"
          ]
        }
      ]
    },
    {
      "cell_type": "markdown",
      "source": [
        "**For calculate Accuracy**"
      ],
      "metadata": {
        "id": "Ed3u79dg4asU"
      }
    },
    {
      "cell_type": "code",
      "source": [
        "def calculate_accuracy(list_dis_one, k_values):\n",
        "    total_validation_images = len(list_dis_one)\n",
        "    accuracies = []\n",
        "\n",
        "    for k in k_values:\n",
        "        correct_predictions = 0\n",
        "\n",
        "        for validation_neighbors in list_dis_one:\n",
        "            top_k_neighbors = validation_neighbors[:k]\n",
        "            validation_label = top_k_neighbors[0][1]\n",
        "\n",
        "            training_labels = [neighbor[0] for neighbor in top_k_neighbors]\n",
        "\n",
        "            majority_label = max(set(training_labels), key=training_labels.count)\n",
        "\n",
        "            if majority_label == validation_label:\n",
        "                correct_predictions += 1\n",
        "\n",
        "        accuracy = correct_predictions / total_validation_images\n",
        "        accuracies.append(accuracy)\n",
        "\n",
        "    return accuracies\n",
        "\n",
        "\n",
        "\n",
        ""
      ],
      "metadata": {
        "id": "RzcvZHTk30hC"
      },
      "execution_count": 38,
      "outputs": []
    },
    {
      "cell_type": "markdown",
      "source": [
        "**Use a list for K. Try to find the accuracies for each fold where k is 1 to 30**"
      ],
      "metadata": {
        "id": "w84H6DyA4nT-"
      }
    },
    {
      "cell_type": "code",
      "source": [
        "k_values = list(range(1, 31, 1))\n",
        "all_accuracies = []\n",
        "\n",
        "for fold_dis in all_dis:\n",
        "    fold_accuracy = calculate_accuracy(fold_dis, k_values)\n",
        "    all_accuracies.append(fold_accuracy)\n"
      ],
      "metadata": {
        "id": "E7IeP6A035OV"
      },
      "execution_count": 39,
      "outputs": []
    },
    {
      "cell_type": "code",
      "source": [
        "print(len(all_accuracies))"
      ],
      "metadata": {
        "colab": {
          "base_uri": "https://localhost:8080/"
        },
        "id": "Cvw4CQ4k4A3s",
        "outputId": "7f33a7a0-46c8-4b30-d6a0-6c79606681f5"
      },
      "execution_count": 41,
      "outputs": [
        {
          "output_type": "stream",
          "name": "stdout",
          "text": [
            "5\n"
          ]
        }
      ]
    },
    {
      "cell_type": "markdown",
      "source": [
        "**Plot all the Accuracy for each specific K**"
      ],
      "metadata": {
        "id": "Ul9xmAgb4sIK"
      }
    },
    {
      "cell_type": "code",
      "source": [
        "import matplotlib.pyplot as plt\n",
        "\n",
        "k_values = list(range(1, 31, 1))\n",
        "\n",
        "mean_accuracies = [sum(accuracies) / len(all_accuracies) for accuracies in zip(*all_accuracies)]\n",
        "\n",
        "plt.figure(figsize=(10, 10))\n",
        "plt.plot(k_values, mean_accuracies, marker='o', label='AVERAGE')\n",
        "for i, fold_accuracies in enumerate(all_accuracies):\n",
        "    plt.scatter(k_values, fold_accuracies, label=f'Fold {i+1}', marker='o', s=50)\n",
        "\n",
        "plt.xlabel('K VALUES')\n",
        "plt.ylabel('ACCURACY')\n",
        "plt.title('ACCURACY VS K VALUES')\n",
        "plt.xticks(k_values)\n",
        "plt.legend()\n",
        "plt.grid(True)\n",
        "plt.show()"
      ],
      "metadata": {
        "colab": {
          "base_uri": "https://localhost:8080/",
          "height": 872
        },
        "id": "ueHt5dX34FgE",
        "outputId": "9cfdf80f-7197-41f6-fb36-920191e126ae"
      },
      "execution_count": 42,
      "outputs": [
        {
          "output_type": "display_data",
          "data": {
            "text/plain": [
              "<Figure size 1000x1000 with 1 Axes>"
            ],
            "image/png": "[encoded data removed]"
          },
          "metadata": {}
        }
      ]
    }
  ]
}